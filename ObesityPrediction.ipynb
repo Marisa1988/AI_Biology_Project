{
 "cells": [
  {
   "cell_type": "markdown",
   "id": "743aa1c2",
   "metadata": {},
   "source": [
    "# 1. Introduction\n",
    "The dataset used in this project includes data for the estimation of obesity levels in individuals from the countries of Mexico, Peru and Colombia, based on their eating habits and physical condition. The data contains 17 attributes and 2111 records, the records are labeled with the class variable NObesity (Obesity Level), that allows classification of the data using the values of Insufficient Weight, Normal Weight, Overweight Level I, Overweight Level II, Obesity Type I, Obesity Type II and Obesity Type III.\n",
    "\n",
    "The data and complete information about the variables is available in: https://archive.ics.uci.edu/dataset/544/estimation+of+obesity+levels+based+on+eating+habits+and+physical+condition\n",
    "\n",
    "The objective of this notebook is to show how to develop a model to predict obesity. The first model predicts presence or absence of obesity, which includes every level after Normal Weight, and the second model predicts the specific level."
   ]
  },
  {
   "cell_type": "markdown",
   "id": "8ebecead",
   "metadata": {},
   "source": [
    "# 2. Import required libraries\n",
    "Import necessary libraries such as pandas, matplotlib, seaborn, and scipy for running the code."
   ]
  },
  {
   "cell_type": "code",
   "execution_count": null,
   "id": "ca747b2a",
   "metadata": {},
   "outputs": [],
   "source": [
    "import pandas as pd\n",
    "import plotnine as pn\n",
    "import numpy as np\n",
    "import matplotlib.pyplot as plt\n",
    "import seaborn as sns\n",
    "from sklearn.linear_model import LogisticRegression\n",
    "from sklearn.pipeline import Pipeline\n",
    "from sklearn.metrics import confusion_matrix, ConfusionMatrixDisplay, classification_report, accuracy_score, RocCurveDisplay\n",
    "from sklearn.preprocessing import StandardScaler\n",
    "from sklearn.svm import SVC\n",
    "from sklearn.model_selection import GridSearchCV, train_test_split, cross_val_score, KFold, GridSearchCV, validation_curve\n",
    "from mlxtend.plotting import plot_decision_regions\n",
    "from sklearn.decomposition import PCA\n",
    "from sklearn.datasets import make_blobs\n",
    "from sklearn.discriminant_analysis import LinearDiscriminantAnalysis\n",
    "from xgboost import XGBClassifier\n",
    "\n",
    "from sklearn.ensemble import (\n",
    "    RandomForestClassifier,\n",
    "    AdaBoostClassifier,\n",
    "    GradientBoostingClassifier,\n",
    "    HistGradientBoostingClassifier,\n",
    "    VotingClassifier\n",
    ")\n",
    "\n",
    "%matplotlib inline"
   ]
  },
  {
   "cell_type": "markdown",
   "id": "fae0ac24",
   "metadata": {},
   "source": [
    "# 3. Data pre-processing\n",
    "Load and pre-process the dataset."
   ]
  },
  {
   "cell_type": "code",
   "execution_count": 35,
   "id": "900f0888",
   "metadata": {},
   "outputs": [
    {
     "data": {
      "text/html": [
       "<div>\n",
       "<style scoped>\n",
       "    .dataframe tbody tr th:only-of-type {\n",
       "        vertical-align: middle;\n",
       "    }\n",
       "\n",
       "    .dataframe tbody tr th {\n",
       "        vertical-align: top;\n",
       "    }\n",
       "\n",
       "    .dataframe thead th {\n",
       "        text-align: right;\n",
       "    }\n",
       "</style>\n",
       "<table border=\"1\" class=\"dataframe\">\n",
       "  <thead>\n",
       "    <tr style=\"text-align: right;\">\n",
       "      <th></th>\n",
       "      <th>Gender</th>\n",
       "      <th>Age</th>\n",
       "      <th>Height</th>\n",
       "      <th>Weight</th>\n",
       "      <th>family_history_with_overweight</th>\n",
       "      <th>FAVC</th>\n",
       "      <th>FCVC</th>\n",
       "      <th>NCP</th>\n",
       "      <th>CAEC</th>\n",
       "      <th>SMOKE</th>\n",
       "      <th>CH2O</th>\n",
       "      <th>SCC</th>\n",
       "      <th>FAF</th>\n",
       "      <th>TUE</th>\n",
       "      <th>CALC</th>\n",
       "      <th>MTRANS</th>\n",
       "      <th>NObeyesdad</th>\n",
       "    </tr>\n",
       "  </thead>\n",
       "  <tbody>\n",
       "    <tr>\n",
       "      <th>0</th>\n",
       "      <td>Female</td>\n",
       "      <td>21.0</td>\n",
       "      <td>1.62</td>\n",
       "      <td>64.0</td>\n",
       "      <td>yes</td>\n",
       "      <td>no</td>\n",
       "      <td>2.0</td>\n",
       "      <td>3.0</td>\n",
       "      <td>Sometimes</td>\n",
       "      <td>no</td>\n",
       "      <td>2.0</td>\n",
       "      <td>no</td>\n",
       "      <td>0.0</td>\n",
       "      <td>1.0</td>\n",
       "      <td>no</td>\n",
       "      <td>Public_Transportation</td>\n",
       "      <td>Normal_Weight</td>\n",
       "    </tr>\n",
       "    <tr>\n",
       "      <th>1</th>\n",
       "      <td>Female</td>\n",
       "      <td>21.0</td>\n",
       "      <td>1.52</td>\n",
       "      <td>56.0</td>\n",
       "      <td>yes</td>\n",
       "      <td>no</td>\n",
       "      <td>3.0</td>\n",
       "      <td>3.0</td>\n",
       "      <td>Sometimes</td>\n",
       "      <td>yes</td>\n",
       "      <td>3.0</td>\n",
       "      <td>yes</td>\n",
       "      <td>3.0</td>\n",
       "      <td>0.0</td>\n",
       "      <td>Sometimes</td>\n",
       "      <td>Public_Transportation</td>\n",
       "      <td>Normal_Weight</td>\n",
       "    </tr>\n",
       "    <tr>\n",
       "      <th>2</th>\n",
       "      <td>Male</td>\n",
       "      <td>23.0</td>\n",
       "      <td>1.80</td>\n",
       "      <td>77.0</td>\n",
       "      <td>yes</td>\n",
       "      <td>no</td>\n",
       "      <td>2.0</td>\n",
       "      <td>3.0</td>\n",
       "      <td>Sometimes</td>\n",
       "      <td>no</td>\n",
       "      <td>2.0</td>\n",
       "      <td>no</td>\n",
       "      <td>2.0</td>\n",
       "      <td>1.0</td>\n",
       "      <td>Frequently</td>\n",
       "      <td>Public_Transportation</td>\n",
       "      <td>Normal_Weight</td>\n",
       "    </tr>\n",
       "    <tr>\n",
       "      <th>3</th>\n",
       "      <td>Male</td>\n",
       "      <td>27.0</td>\n",
       "      <td>1.80</td>\n",
       "      <td>87.0</td>\n",
       "      <td>no</td>\n",
       "      <td>no</td>\n",
       "      <td>3.0</td>\n",
       "      <td>3.0</td>\n",
       "      <td>Sometimes</td>\n",
       "      <td>no</td>\n",
       "      <td>2.0</td>\n",
       "      <td>no</td>\n",
       "      <td>2.0</td>\n",
       "      <td>0.0</td>\n",
       "      <td>Frequently</td>\n",
       "      <td>Walking</td>\n",
       "      <td>Overweight_Level_I</td>\n",
       "    </tr>\n",
       "    <tr>\n",
       "      <th>4</th>\n",
       "      <td>Male</td>\n",
       "      <td>22.0</td>\n",
       "      <td>1.78</td>\n",
       "      <td>89.8</td>\n",
       "      <td>no</td>\n",
       "      <td>no</td>\n",
       "      <td>2.0</td>\n",
       "      <td>1.0</td>\n",
       "      <td>Sometimes</td>\n",
       "      <td>no</td>\n",
       "      <td>2.0</td>\n",
       "      <td>no</td>\n",
       "      <td>0.0</td>\n",
       "      <td>0.0</td>\n",
       "      <td>Sometimes</td>\n",
       "      <td>Public_Transportation</td>\n",
       "      <td>Overweight_Level_II</td>\n",
       "    </tr>\n",
       "  </tbody>\n",
       "</table>\n",
       "</div>"
      ],
      "text/plain": [
       "   Gender   Age  Height  Weight family_history_with_overweight FAVC  FCVC  \\\n",
       "0  Female  21.0    1.62    64.0                            yes   no   2.0   \n",
       "1  Female  21.0    1.52    56.0                            yes   no   3.0   \n",
       "2    Male  23.0    1.80    77.0                            yes   no   2.0   \n",
       "3    Male  27.0    1.80    87.0                             no   no   3.0   \n",
       "4    Male  22.0    1.78    89.8                             no   no   2.0   \n",
       "\n",
       "   NCP       CAEC SMOKE  CH2O  SCC  FAF  TUE        CALC  \\\n",
       "0  3.0  Sometimes    no   2.0   no  0.0  1.0          no   \n",
       "1  3.0  Sometimes   yes   3.0  yes  3.0  0.0   Sometimes   \n",
       "2  3.0  Sometimes    no   2.0   no  2.0  1.0  Frequently   \n",
       "3  3.0  Sometimes    no   2.0   no  2.0  0.0  Frequently   \n",
       "4  1.0  Sometimes    no   2.0   no  0.0  0.0   Sometimes   \n",
       "\n",
       "                  MTRANS           NObeyesdad  \n",
       "0  Public_Transportation        Normal_Weight  \n",
       "1  Public_Transportation        Normal_Weight  \n",
       "2  Public_Transportation        Normal_Weight  \n",
       "3                Walking   Overweight_Level_I  \n",
       "4  Public_Transportation  Overweight_Level_II  "
      ]
     },
     "execution_count": 35,
     "metadata": {},
     "output_type": "execute_result"
    }
   ],
   "source": [
    "# https://archive.ics.uci.edu/dataset/544/estimation+of+obesity+levels+based+on+eating+habits+and+physical+condition\n",
    "\n",
    "# Load the dataset\n",
    "data = 'Data/RawData.csv'\n",
    "\n",
    "# Read the dataset\n",
    "data = pd.read_csv(data)\n",
    "data.head()\n"
   ]
  },
  {
   "cell_type": "code",
   "execution_count": 36,
   "id": "f88c01b0",
   "metadata": {},
   "outputs": [
    {
     "name": "stdout",
     "output_type": "stream",
     "text": [
      "Gender                            0\n",
      "Age                               0\n",
      "Height                            0\n",
      "Weight                            0\n",
      "family_history_with_overweight    0\n",
      "FAVC                              0\n",
      "FCVC                              0\n",
      "NCP                               0\n",
      "CAEC                              0\n",
      "SMOKE                             0\n",
      "CH2O                              0\n",
      "SCC                               0\n",
      "FAF                               0\n",
      "TUE                               0\n",
      "CALC                              0\n",
      "MTRANS                            0\n",
      "NObeyesdad                        0\n",
      "dtype: int64\n",
      "(2111, 17)\n"
     ]
    }
   ],
   "source": [
    "# Identify missing values\n",
    "data.isnull().sum()\n",
    "print(data.isnull().sum())\n",
    "\n",
    "# Shape of the dataset\n",
    "data.shape\n",
    "print(data.shape)"
   ]
  },
  {
   "cell_type": "code",
   "execution_count": 37,
   "id": "c06e19b2",
   "metadata": {},
   "outputs": [
    {
     "name": "stdout",
     "output_type": "stream",
     "text": [
      "0    0\n",
      "1    0\n",
      "2    1\n",
      "3    1\n",
      "4    1\n",
      "Name: Gender, dtype: int64\n",
      "   family_history_with_overweight  FAVC  SMOKE  SCC\n",
      "0                               1     0      0    0\n",
      "1                               1     0      1    1\n",
      "2                               1     0      0    0\n",
      "3                               0     0      0    0\n",
      "4                               0     0      0    0\n",
      "0    1\n",
      "1    1\n",
      "2    1\n",
      "3    1\n",
      "4    1\n",
      "Name: CAEC, dtype: int64\n",
      "0    0\n",
      "1    1\n",
      "2    2\n",
      "3    2\n",
      "4    1\n",
      "Name: CALC, dtype: int64\n",
      "0    1\n",
      "1    1\n",
      "2    1\n",
      "3    2\n",
      "4    1\n",
      "Name: MTRANS, dtype: int64\n"
     ]
    }
   ],
   "source": [
    "# Transform all the categorical x variables into numerical variables\n",
    "\n",
    "# Transform 'Gender' column to numerical values, Female 0 and Male 1\n",
    "data['Gender'] = data['Gender'].map({'Female': 0, 'Male': 1})\n",
    "# Check the transformation\n",
    "print(data['Gender'].head())\n",
    "\n",
    "# Transform binary columns to numerical values (yes = 1, no = 0)\n",
    "columns_to_transform = ['family_history_with_overweight', 'FAVC', 'SMOKE', 'SCC']\n",
    "for column in columns_to_transform:\n",
    "    data[column] = data[column].map({'yes': 1, 'no': 0})\n",
    "# Check the transformation\n",
    "print(data[columns_to_transform].head())\n",
    "\n",
    "\n",
    "# Transform 'CAEC' column to numerical values\n",
    "data['CAEC'] = data['CAEC'].map({'Always': 3, 'Frequently': 2, 'Sometimes': 1, 'no': 0})\n",
    "# Check the transformation\n",
    "print(data['CAEC'].head())\n",
    "# Transform 'CALC' column to numerical values\n",
    "data['CALC'] = data['CALC'].map({'Always': 3, 'Frequently': 2, 'Sometimes': 1, 'no': 0})\n",
    "# Check the transformation\n",
    "print(data['CALC'].head())\n",
    "# Transform 'MTRANS' column to numerical values\n",
    "data['MTRANS'] = data['MTRANS'].map({'Public_Transportation': 1, 'Walking' : 2, 'Automobile': 3, 'Motorbike': 4, 'Bike': 5})\n",
    "# Check the transformation\n",
    "print(data['MTRANS'].head())\n",
    "\n"
   ]
  },
  {
   "cell_type": "code",
   "execution_count": 38,
   "id": "b4b17a8e",
   "metadata": {},
   "outputs": [
    {
     "name": "stdout",
     "output_type": "stream",
     "text": [
      "            NObeyesdad  Overweight\n",
      "0        Normal_Weight           0\n",
      "1        Normal_Weight           0\n",
      "2        Normal_Weight           0\n",
      "3   Overweight_Level_I           1\n",
      "4  Overweight_Level_II           1\n"
     ]
    }
   ],
   "source": [
    "# Transform 'NObeyesdad' column to numerical values Overweight = 1, No_Overweight = 0\n",
    "data['Overweight'] = data['NObeyesdad'].map({\n",
    "    'Insufficient_Weight': 0,\n",
    "    'Normal_Weight': 0,\n",
    "    'Overweight_Level_I': 1,\n",
    "    'Overweight_Level_II': 1,\n",
    "    'Obesity_Type_I': 1,\n",
    "    'Obesity_Type_II': 1,\n",
    "    'Obesity_Type_III': 1\n",
    "})\n",
    "\n",
    "# Check the transformation\n",
    "print(data[['NObeyesdad', 'Overweight']].head())"
   ]
  },
  {
   "cell_type": "code",
   "execution_count": 39,
   "id": "793900b8",
   "metadata": {},
   "outputs": [
    {
     "name": "stdout",
     "output_type": "stream",
     "text": [
      "            Gender          Age       Height       Weight  \\\n",
      "count  2111.000000  2111.000000  2111.000000  2111.000000   \n",
      "mean      0.505921    24.312600     1.701677    86.586058   \n",
      "std       0.500083     6.345968     0.093305    26.191172   \n",
      "min       0.000000    14.000000     1.450000    39.000000   \n",
      "25%       0.000000    19.947192     1.630000    65.473343   \n",
      "50%       1.000000    22.777890     1.700499    83.000000   \n",
      "75%       1.000000    26.000000     1.768464   107.430682   \n",
      "max       1.000000    61.000000     1.980000   173.000000   \n",
      "\n",
      "       family_history_with_overweight         FAVC         FCVC          NCP  \\\n",
      "count                     2111.000000  2111.000000  2111.000000  2111.000000   \n",
      "mean                         0.817622     0.883941     2.419043     2.685628   \n",
      "std                          0.386247     0.320371     0.533927     0.778039   \n",
      "min                          0.000000     0.000000     1.000000     1.000000   \n",
      "25%                          1.000000     1.000000     2.000000     2.658738   \n",
      "50%                          1.000000     1.000000     2.385502     3.000000   \n",
      "75%                          1.000000     1.000000     3.000000     3.000000   \n",
      "max                          1.000000     1.000000     3.000000     4.000000   \n",
      "\n",
      "              CAEC        SMOKE         CH2O          SCC          FAF  \\\n",
      "count  2111.000000  2111.000000  2111.000000  2111.000000  2111.000000   \n",
      "mean      1.140692     0.020843     2.008011     0.045476     1.010298   \n",
      "std       0.468543     0.142893     0.612953     0.208395     0.850592   \n",
      "min       0.000000     0.000000     1.000000     0.000000     0.000000   \n",
      "25%       1.000000     0.000000     1.584812     0.000000     0.124505   \n",
      "50%       1.000000     0.000000     2.000000     0.000000     1.000000   \n",
      "75%       1.000000     0.000000     2.477420     0.000000     1.666678   \n",
      "max       3.000000     1.000000     3.000000     1.000000     3.000000   \n",
      "\n",
      "               TUE         CALC       MTRANS   Overweight  \n",
      "count  2111.000000  2111.000000  2111.000000  2111.000000  \n",
      "mean      0.657866     0.731407     1.488394     0.735197  \n",
      "std       0.608927     0.515498     0.868475     0.441333  \n",
      "min       0.000000     0.000000     1.000000     0.000000  \n",
      "25%       0.000000     0.000000     1.000000     0.000000  \n",
      "50%       0.625350     1.000000     1.000000     1.000000  \n",
      "75%       1.000000     1.000000     2.000000     1.000000  \n",
      "max       2.000000     3.000000     5.000000     1.000000  \n"
     ]
    }
   ],
   "source": [
    "# Statistical description of the DataFrame\n",
    "data.describe()\n",
    "print(data.describe())"
   ]
  },
  {
   "cell_type": "markdown",
   "id": "2c579d13",
   "metadata": {},
   "source": [
    "# 4.1 Model setup 1\n",
    "Set up a model to predict whether a person is overweight or not. "
   ]
  },
  {
   "cell_type": "code",
   "execution_count": 40,
   "id": "ac2afc70",
   "metadata": {},
   "outputs": [],
   "source": [
    "# 1) Prepare train/test sets\n",
    "y = data.Overweight\n",
    "X = data.drop(columns=['Overweight', 'NObeyesdad'])\n",
    "\n",
    "X_train, X_test, y_train, y_test = train_test_split(\n",
    "    X, y,\n",
    "    test_size=0.25,\n",
    "    random_state=0,\n",
    "    stratify=y\n",
    ")\n",
    "\n",
    "scaler = StandardScaler()\n",
    "X_train = scaler.fit_transform(X_train)\n",
    "X_test  = scaler.transform(X_test)\n"
   ]
  },
  {
   "cell_type": "code",
   "execution_count": 41,
   "id": "c54249f1",
   "metadata": {},
   "outputs": [],
   "source": [
    "# 2) Define base models\n",
    "models = {\n",
    "    \"RandomForest\": RandomForestClassifier(random_state=0),\n",
    "    \"AdaBoost\":    AdaBoostClassifier(random_state=0),\n",
    "    \"GBM\":         GradientBoostingClassifier(random_state=0),\n",
    "    \"HistGBM\":     HistGradientBoostingClassifier(random_state=0),\n",
    "    \"XGBoost\":     XGBClassifier(use_label_encoder=False, eval_metric='logloss', random_state=0),\n",
    "}\n"
   ]
  },
  {
   "cell_type": "code",
   "execution_count": 42,
   "id": "060497ad",
   "metadata": {},
   "outputs": [],
   "source": [
    "# 3) Define hyperparameter grids\n",
    "param_grids = {\n",
    "    \"RandomForest\": {\n",
    "        \"n_estimators\": [100, 200, 500],\n",
    "        \"max_depth\":    [None, 5, 10],\n",
    "        \"min_samples_split\": [2, 5, 10]\n",
    "    },\n",
    "    \"AdaBoost\": {\n",
    "        \"n_estimators\": [50, 100, 200],\n",
    "        \"learning_rate\":[0.5, 1.0, 1.5]\n",
    "    },\n",
    "    \"GBM\": {\n",
    "        \"n_estimators\":   [100, 200, 500],\n",
    "        \"learning_rate\":  [0.01, 0.05, 0.1],\n",
    "        \"max_depth\":      [3, 5, 7]\n",
    "    },\n",
    "    \"HistGBM\": {\n",
    "        \"max_iter\":       [100, 200],\n",
    "        \"learning_rate\":  [0.01, 0.05, 0.1],\n",
    "        \"max_depth\":      [None, 5, 10]\n",
    "    },\n",
    "    \"XGBoost\": {\n",
    "         \"n_estimators\": [100, 200, 500],\n",
    "         \"learning_rate\": [0.01, 0.05, 0.1],\n",
    "         \"max_depth\":     [3, 5, 7]\n",
    "     }\n",
    "}\n"
   ]
  },
  {
   "cell_type": "markdown",
   "id": "eead5de5",
   "metadata": {},
   "source": [
    "# 4.2 Hyperparameter tuning\n"
   ]
  },
  {
   "cell_type": "code",
   "execution_count": null,
   "id": "3468298e",
   "metadata": {},
   "outputs": [],
   "source": [
    "# 4) Hyperparameter tuning\n",
    "tuned_models = {}\n",
    "for name, base_clf in models.items():\n",
    "    print(f\"Tuning {name}...\")\n",
    "    grid = GridSearchCV(\n",
    "        estimator=base_clf,\n",
    "        param_grid=param_grids[name],\n",
    "        cv=5,\n",
    "        scoring='accuracy',\n",
    "        n_jobs=-1,\n",
    "        verbose=1\n",
    "    )\n",
    "    grid.fit(X_train, y_train)\n",
    "    print(f\" → Best params for {name}: {grid.best_params_}\")\n",
    "    print(f\" → Best CV acc:         {grid.best_score_:.4f}\\n\")\n",
    "    tuned_models[name] = grid.best_estimator_"
   ]
  },
  {
   "cell_type": "code",
   "execution_count": null,
   "id": "db14048c",
   "metadata": {},
   "outputs": [],
   "source": [
    "# 5) Build a soft-voting ensemble from your top 4 tuned models (including XGBoost)\n",
    "tuned_models[\"Voting\"] = VotingClassifier(\n",
    "    estimators=[\n",
    "        ('rf',   tuned_models[\"RandomForest\"]),\n",
    "        ('gbm',  tuned_models[\"GBM\"]),\n",
    "        ('ada',  tuned_models[\"AdaBoost\"]),\n",
    "        ('xgb',  tuned_models[\"XGBoost\"])\n",
    "    ],\n",
    "    voting='soft'\n",
    ")"
   ]
  },
  {
   "cell_type": "code",
   "execution_count": null,
   "id": "cd8dc673",
   "metadata": {},
   "outputs": [],
   "source": [
    "# 6) Cross-validate all tuned models\n",
    "cv_summary = []\n",
    "for name, clf in tuned_models.items():\n",
    "    scores = cross_val_score(clf, X_train, y_train, cv=5, scoring='accuracy', n_jobs=-1)\n",
    "    cv_summary.append({\n",
    "        'model': name,\n",
    "        'mean_cv_acc': np.mean(scores),\n",
    "        'std_cv_acc':  np.std(scores)\n",
    "    })\n",
    "\n",
    "cv_df = pd.DataFrame(cv_summary).sort_values('mean_cv_acc', ascending=False)\n",
    "print(\"CV results for tuned models:\\n\", cv_df)"
   ]
  },
  {
   "cell_type": "markdown",
   "id": "1eda7584",
   "metadata": {},
   "source": [
    "# 4.3 Results\n"
   ]
  },
  {
   "cell_type": "markdown",
   "id": "ec10e8cb",
   "metadata": {},
   "source": [
    "### Test the model after hyperparameter tuning"
   ]
  },
  {
   "cell_type": "code",
   "execution_count": null,
   "id": "6c4802d9",
   "metadata": {},
   "outputs": [],
   "source": [
    "# 7) Final evaluation: train best model on full training set & test\n",
    "best_name = cv_df.iloc[0]['model']\n",
    "best_clf  = tuned_models[best_name]\n",
    "print(f\"\\nTraining best model ({best_name}) on full training set...\")\n",
    "best_clf.fit(X_train, y_train)\n",
    "\n",
    "y_pred = best_clf.predict(X_test)\n",
    "print(f\"\\n=== {best_name} on TEST SET ===\")\n",
    "print(\"Classification Report:\")\n",
    "print(classification_report(y_test, y_pred))\n",
    "print(\"Confusion Matrix:\")\n",
    "print(confusion_matrix(y_test, y_pred))"
   ]
  },
  {
   "cell_type": "markdown",
   "id": "2473da95",
   "metadata": {},
   "source": [
    "### Use the model to make a prediction of overweight / not overweight."
   ]
  },
  {
   "cell_type": "code",
   "execution_count": null,
   "id": "e666b7dd",
   "metadata": {},
   "outputs": [],
   "source": [
    "# Create a dataset with data that matches the model's expected features\n",
    "data_subject1 = pd.DataFrame({\n",
    "    'Gender': [0],  # 1 for Male, 0 for Female\n",
    "    'Age': [37],  # Age in years\n",
    "    'Height': [1.73],  # Height in meters\n",
    "    'Weight': [121.3],  # Weight in kilograms\n",
    "    'family_history_with_overweight': [1],  # 1 for yes, 0 for no\n",
    "    'FAVC': [1],  # Eat high caloric food: 1 for yes, 0 for no\n",
    "    'FCVC': [1],  # Frequency for vegetables consumption: Never = 1, Sometimes = 2, Always = 3    \n",
    "    'NCP': [3],  # Daily number of meals: Between 1-2 = 1, Three = 2, More than three = 3\n",
    "    'CAEC': [1],  # Frequency for eating between meals: No = 0, Sometimes = 1, Frequently = 2, Always = 3\n",
    "    'SMOKE': [1],  # 1 for yes, 0 for no\n",
    "    'CH2O': [2],  # Water consumption: < 1 Liter = 1, 1-2 Liters = 2, > 2 Liters = 3\n",
    "    'SCC': [0],  # Monitor calories: 1 for yes, 0 for no\n",
    "    'FAF': [0],  # Frequency for physical activity: Do not do any = 0, 1-2 times/week = 1, 3-4 times/week = 2, > 4 times/week = 3\n",
    "    'TUE': [2],  # Time spent on technological devices: < 2 hours = 0, 2-5 hours = 1, > 5 hours = 2\n",
    "    'CALC': [0],  # Frequency for alcohol consumption: Do not drink = 0, Sometimes = 1, Frequently = 2, Always = 3\n",
    "    'MTRANS': [1]  # Transportation mode: Public_Transportation = 1, Walking = 2, Automobile = 3, Motorbike = 4, Bike = 5\n",
    "})\n",
    "\n",
    "# Ensure the data is scaled using the same scaler as the training data\n",
    "data_subject1 = scaler.transform(data_subject1)\n",
    "\n",
    "# Predict using the trained model\n",
    "prediction = best_model.predict(data_subject1)\n",
    "\n",
    "# Map the prediction to the corresponding weight level\n",
    "overweight = {\n",
    "    0: 'Not overweight',\n",
    "    1: 'Overweight',\n",
    "\n",
    "# Display the prediction\n",
    "predicted_overweight = overweight.get(prediction[0], \"Unknown Level\")\n",
    "print(f\"Prediction for subject 1: {prediction}\")\n",
    "\n",
    "\n",
    "}"
   ]
  },
  {
   "cell_type": "markdown",
   "id": "1c33fd50",
   "metadata": {},
   "source": [
    "# 5.1 Model setup 2\n",
    "Set up a model to predict the level of weight of a person."
   ]
  },
  {
   "cell_type": "code",
   "execution_count": 43,
   "id": "83769a70",
   "metadata": {},
   "outputs": [
    {
     "name": "stdout",
     "output_type": "stream",
     "text": [
      "            NObeyesdad  WeightLevel\n",
      "0        Normal_Weight            2\n",
      "1        Normal_Weight            2\n",
      "2        Normal_Weight            2\n",
      "3   Overweight_Level_I            3\n",
      "4  Overweight_Level_II            4\n"
     ]
    }
   ],
   "source": [
    "# Transform 'NObeyesdad' column to numerical values and create a new column 'WeightLevel'\n",
    "data['WeightLevel'] = data['NObeyesdad'].map({\n",
    "    'Insufficient_Weight': 1,\n",
    "    'Normal_Weight': 2,\n",
    "    'Overweight_Level_I': 3,\n",
    "    'Overweight_Level_II': 4,\n",
    "    'Obesity_Type_I': 5,\n",
    "    'Obesity_Type_II': 6,\n",
    "    'Obesity_Type_III': 7\n",
    "})\n",
    "\n",
    "# Check the transformation\n",
    "print(data[['NObeyesdad', 'WeightLevel']].head())"
   ]
  },
  {
   "cell_type": "code",
   "execution_count": 44,
   "id": "2de21cf9",
   "metadata": {},
   "outputs": [],
   "source": [
    "# Setup train/test data\n",
    "# Get the y values and drop from df\n",
    "y = data.WeightLevel\n",
    "X = data.drop(columns=['WeightLevel', 'Overweight', 'NObeyesdad'])\n",
    "\n",
    "# Split to 75% train, 25% test\n",
    "X_train, X_test, y_train, y_test = train_test_split(X, y, test_size=0.25, random_state=0)\n",
    "\n",
    "# Scale the data in x_train and x_test\n",
    "scaler = StandardScaler()\n",
    "X_train = scaler.fit_transform(X_train)\n",
    "X_test = scaler.transform(X_test)"
   ]
  },
  {
   "cell_type": "code",
   "execution_count": 45,
   "id": "737f90a5",
   "metadata": {},
   "outputs": [],
   "source": [
    "# Setup train/test data\n",
    "\n",
    "# Get the y values and drop from df\n",
    "y= data.WeightLevel\n",
    "# Drop the y column from the DataFrame\n",
    "X= data.drop(columns=['WeightLevel', 'Overweight', 'NObeyesdad'])\n",
    "\n",
    "# Split to 75% train, 25% test\n",
    "X_train, X_test, y_train, y_test = train_test_split(X, y, test_size=0.25, random_state=0)\n",
    "\n",
    "# Scale the data in x_train and x_test\n",
    "scaler = StandardScaler()\n",
    "X_train = scaler.fit_transform(X_train)\n",
    "X_test = scaler.transform(X_test)"
   ]
  },
  {
   "cell_type": "code",
   "execution_count": 46,
   "id": "e0cdcf3e",
   "metadata": {},
   "outputs": [],
   "source": [
    "# Define the base model\n",
    "lda = LinearDiscriminantAnalysis()"
   ]
  },
  {
   "cell_type": "markdown",
   "id": "3feb1f13",
   "metadata": {},
   "source": [
    "# 5.2 Hyperparameter tuning\n"
   ]
  },
  {
   "cell_type": "code",
   "execution_count": 47,
   "id": "ee973c01",
   "metadata": {},
   "outputs": [
    {
     "name": "stdout",
     "output_type": "stream",
     "text": [
      "Fitting 5 folds for each of 11 candidates, totalling 55 fits\n",
      "Best hyperparameters: {'solver': 'svd'}\n",
      "Best accuracy: 0.8894621251447511\n"
     ]
    }
   ],
   "source": [
    "# Define the hyperparameters to tune\n",
    "param_grid = [\n",
    "    {'solver': ['svd']},  # 'svd' does not support shrinkage\n",
    "    {'solver': ['lsqr', 'eigen'], 'shrinkage': [None, 'auto', 0.1, 0.5, 0.9]}  # Shrinkage is valid for 'lsqr' and 'eigen'\n",
    "]\n",
    "\n",
    "# Configure GridSearchCV\n",
    "grid_search = GridSearchCV(estimator=lda, param_grid=param_grid, cv=5, scoring='accuracy', verbose=1)\n",
    "\n",
    "# Fit the model with the training data\n",
    "grid_search.fit(X_train, y_train)\n",
    "\n",
    "# Print the best hyperparameters and the best score\n",
    "print(f\"Best hyperparameters: {grid_search.best_params_}\")\n",
    "print(f\"Best accuracy: {grid_search.best_score_}\")\n",
    "\n",
    "# Use the best model found\n",
    "best_lda = grid_search.best_estimator_"
   ]
  },
  {
   "cell_type": "markdown",
   "id": "cffcc57b",
   "metadata": {},
   "source": [
    "# 5.3 Results\n"
   ]
  },
  {
   "cell_type": "code",
   "execution_count": 48,
   "id": "dd3ffb42",
   "metadata": {},
   "outputs": [
    {
     "name": "stdout",
     "output_type": "stream",
     "text": [
      "Model score on training data: 0.899557801642451\n",
      "Model score on testing data: 0.8920454545454546\n"
     ]
    }
   ],
   "source": [
    "# Get model.score for both training and test data for Fisher's Discriminant Analysis\n",
    "print(f'Model score on training data: {best_lda.score(X_train, y_train)}')\n",
    "print(f'Model score on testing data: {best_lda.score(X_test, y_test)}')"
   ]
  },
  {
   "cell_type": "code",
   "execution_count": 49,
   "id": "a67592dc",
   "metadata": {},
   "outputs": [
    {
     "name": "stdout",
     "output_type": "stream",
     "text": [
      "Classification Report:\n",
      "              precision    recall  f1-score   support\n",
      "\n",
      "           1       0.89      0.95      0.92        78\n",
      "           2       0.81      0.67      0.73        69\n",
      "           3       0.74      0.79      0.77        68\n",
      "           4       0.79      0.86      0.83        66\n",
      "           5       0.99      0.92      0.95        86\n",
      "           6       0.97      1.00      0.99        73\n",
      "           7       1.00      1.00      1.00        88\n",
      "\n",
      "    accuracy                           0.89       528\n",
      "   macro avg       0.88      0.88      0.88       528\n",
      "weighted avg       0.89      0.89      0.89       528\n",
      "\n"
     ]
    },
    {
     "data": {
      "image/png": "[encoded data removed]",
      "text/plain": [
       "<Figure size 640x480 with 2 Axes>"
      ]
     },
     "metadata": {},
     "output_type": "display_data"
    }
   ],
   "source": [
    "# Make predictions\n",
    "y_pred = best_lda.predict(X_test)\n",
    "\n",
    "# Evaluate the model\n",
    "print(\"Classification Report:\")\n",
    "print(classification_report(y_test, y_pred))\n",
    "\n",
    "# Confusion Matrix\n",
    "cm = confusion_matrix(y_test, y_pred)\n",
    "ConfusionMatrixDisplay(confusion_matrix=cm, display_labels=best_lda.classes_).plot()\n",
    "plt.show()"
   ]
  },
  {
   "cell_type": "markdown",
   "id": "ca00d6a2",
   "metadata": {},
   "source": [
    "# 5.4 Repeat with SVM"
   ]
  },
  {
   "cell_type": "code",
   "execution_count": 52,
   "id": "e8d79530",
   "metadata": {},
   "outputs": [
    {
     "name": "stdout",
     "output_type": "stream",
     "text": [
      "Fitting 5 folds for each of 18 candidates, totalling 90 fits\n",
      "Best parameters: {'C': 10, 'gamma': 'scale', 'kernel': 'linear'}\n"
     ]
    }
   ],
   "source": [
    "\n",
    "# 1. Prepare the data\n",
    "# Split the data into features (X) and target labels (y)\n",
    "y = data['WeightLevel']  # Target variable\n",
    "X = data.drop(columns=['WeightLevel', 'Overweight', 'NObeyesdad'])  # Features\n",
    "\n",
    "# Split the data into training and testing sets\n",
    "X_train, X_test, y_train, y_test = train_test_split(X, y, test_size=0.25, random_state=0, stratify=y)\n",
    "\n",
    "# Scale the data\n",
    "scaler = StandardScaler()\n",
    "X_train = scaler.fit_transform(X_train)\n",
    "X_test = scaler.transform(X_test)\n",
    "\n",
    "# 2. Define the SVM model\n",
    "svm = SVC(probability=True, random_state=0)\n",
    "\n",
    "# 3. Perform hyperparameter tuning with GridSearchCV\n",
    "param_grid = {\n",
    "    'C': [0.1, 1, 10],  # Regularization parameter\n",
    "    'kernel': ['linear', 'rbf', 'poly'],  # Kernel types\n",
    "    'gamma': ['scale', 'auto']  # Kernel coefficient\n",
    "}\n",
    "\n",
    "grid_search = GridSearchCV(estimator=svm, param_grid=param_grid, cv=5, scoring='accuracy', verbose=1, n_jobs=-1)\n",
    "grid_search.fit(X_train, y_train)\n",
    "\n",
    "# Best model found\n",
    "best_svm = grid_search.best_estimator_\n",
    "print(f\"Best parameters: {grid_search.best_params_}\")"
   ]
  },
  {
   "cell_type": "code",
   "execution_count": 53,
   "id": "216c3cec",
   "metadata": {},
   "outputs": [
    {
     "name": "stdout",
     "output_type": "stream",
     "text": [
      "Model score on training data: 0.9804169298799748\n",
      "Model score on testing data: 0.9678030303030303\n"
     ]
    }
   ],
   "source": [
    "# Get model.score for both training and test data for Support Vector Machines (SVM)\n",
    "print(f'Model score on training data: {best_svm.score(X_train, y_train)}')\n",
    "print(f'Model score on testing data: {best_svm.score(X_test, y_test)}')"
   ]
  },
  {
   "cell_type": "code",
   "execution_count": 54,
   "id": "d83b0996",
   "metadata": {},
   "outputs": [
    {
     "name": "stdout",
     "output_type": "stream",
     "text": [
      "Classification Report:\n",
      "              precision    recall  f1-score   support\n",
      "\n",
      "           1       0.97      1.00      0.99        68\n",
      "           2       1.00      0.96      0.98        72\n",
      "           3       0.92      0.95      0.93        73\n",
      "           4       0.91      0.93      0.92        72\n",
      "           5       1.00      0.97      0.98        88\n",
      "           6       0.97      1.00      0.99        74\n",
      "           7       1.00      0.98      0.99        81\n",
      "\n",
      "    accuracy                           0.97       528\n",
      "   macro avg       0.97      0.97      0.97       528\n",
      "weighted avg       0.97      0.97      0.97       528\n",
      "\n"
     ]
    },
    {
     "data": {
      "image/png": "[encoded data removed]",
      "text/plain": [
       "<Figure size 640x480 with 2 Axes>"
      ]
     },
     "metadata": {},
     "output_type": "display_data"
    }
   ],
   "source": [
    "# 4. Evaluate the model on the test set\n",
    "y_pred = best_svm.predict(X_test)\n",
    "\n",
    "# Classification report\n",
    "print(\"Classification Report:\")\n",
    "print(classification_report(y_test, y_pred))\n",
    "\n",
    "# Confusion matrix\n",
    "cm = confusion_matrix(y_test, y_pred)\n",
    "ConfusionMatrixDisplay(confusion_matrix=cm, display_labels=best_svm.classes_).plot(cmap='viridis')\n",
    "plt.title(\"Confusion Matrix - SVM\")\n",
    "plt.show()"
   ]
  },
  {
   "cell_type": "markdown",
   "id": "cefb2af5",
   "metadata": {},
   "source": [
    "### Use the SVM model to make a prediction of weight level."
   ]
  },
  {
   "cell_type": "code",
   "execution_count": 57,
   "id": "aeff3c79",
   "metadata": {},
   "outputs": [
    {
     "name": "stdout",
     "output_type": "stream",
     "text": [
      "Prediction for subject 2: Normal Weight\n"
     ]
    }
   ],
   "source": [
    "# Create a dataset with data that matches the model's expected features\n",
    "data_subject2 = pd.DataFrame({\n",
    "    'Gender': [0],  # 1 for Male, 0 for Female\n",
    "    'Age': [37],  # Age in years\n",
    "    'Height': [1.73],  # Height in meters\n",
    "    'Weight': [58.3],  # Weight in kilograms\n",
    "    'family_history_with_overweight': [1],  # 1 for yes, 0 for no\n",
    "    'FAVC': [1],  # Eat high caloric food: 1 for yes, 0 for no\n",
    "    'FCVC': [1],  # Frequency for vegetables consumption: Never = 1, Sometimes = 2, Always = 3    \n",
    "    'NCP': [3],  # Daily number of meals: Between 1-2 = 1, Three = 2, More than three = 3\n",
    "    'CAEC': [1],  # Frequency for eating between meals: No = 0, Sometimes = 1, Frequently = 2, Always = 3\n",
    "    'SMOKE': [1],  # 1 for yes, 0 for no\n",
    "    'CH2O': [2],  # Water consumption: < 1 Liter = 1, 1-2 Liters = 2, > 2 Liters = 3\n",
    "    'SCC': [0],  # Monitor calories: 1 for yes, 0 for no\n",
    "    'FAF': [0],  # Frequency for physical activity: Do not do any = 0, 1-2 times/week = 1, 3-4 times/week = 2, > 4 times/week = 3\n",
    "    'TUE': [2],  # Time spent on technological devices: < 2 hours = 0, 2-5 hours = 1, > 5 hours = 2\n",
    "    'CALC': [0],  # Frequency for alcohol consumption: Do not drink = 0, Sometimes = 1, Frequently = 2, Always = 3\n",
    "    'MTRANS': [1]  # Transportation mode: Public_Transportation = 1, Walking = 2, Automobile = 3, Motorbike = 4, Bike = 5\n",
    "})\n",
    "\n",
    "# Ensure the data is scaled using the same scaler as the training data\n",
    "data_subject2 = scaler.transform(data_subject2)\n",
    "\n",
    "# Predict using the trained model\n",
    "prediction = best_svm.predict(data_subject2)\n",
    "\n",
    "# Map the prediction to the corresponding weight level\n",
    "weight_levels = {\n",
    "    1: 'Insufficient Weight',\n",
    "    2: 'Normal Weight',\n",
    "    3: 'Overweight Level I',\n",
    "    4: 'Overweight Level II',\n",
    "    5: 'Obesity Type I',\n",
    "    6: 'Obesity Type II',\n",
    "    7: 'Obesity Type III'\n",
    "}\n",
    "\n",
    "# Display the prediction\n",
    "predicted_level = weight_levels.get(prediction[0], \"Unknown Level\")\n",
    "print(f\"Prediction for subject 2: {predicted_level}\")"
   ]
  },
  {
   "cell_type": "markdown",
   "id": "65887ac1",
   "metadata": {},
   "source": [
    "# 6. Discussion\n"
   ]
  },
  {
   "cell_type": "markdown",
   "id": "eed584e5",
   "metadata": {},
   "source": [
    "### Summary of Model Performance: Discriminant Analysis vs. SVM for Predicting WeightLevel"
   ]
  },
  {
   "cell_type": "markdown",
   "id": "e2ca6951",
   "metadata": {},
   "source": [
    "1. Linear Discriminant Analysis (LDA)\n",
    "What Worked:\n",
    "\n",
    "LDA is computationally efficient and performed well on the dataset, especially for linearly separable classes.\n",
    "The model provided interpretable results, as LDA projects data into a lower-dimensional space while maximizing class separability.\n",
    "Hyperparameter tuning (e.g., solver and shrinkage) improved the model's performance, with the best parameters selected using GridSearchCV.\n",
    "What Didn't Work:\n",
    "\n",
    "LDA assumes that the data follows a Gaussian distribution, which may not hold true for all features in the dataset.\n",
    "The model struggled with overlapping classes, particularly for higher obesity levels (e.g., Obesity Type II and Obesity Type III), leading to misclassifications.\n",
    "Performance on the test set was slightly lower than on the training set, indicating potential overfitting or limitations in capturing complex relationships.\n",
    "Results:\n",
    "\n",
    "Training Accuracy: High, indicating the model fit the training data well.\n",
    "Test Accuracy: Slightly lower than training accuracy, showing some generalization issues.\n",
    "Confusion Matrix: Misclassifications were more frequent for adjacent weight levels (e.g., Overweight Level I vs. Overweight Level II).\n",
    "\n",
    "2. Support Vector Machines (SVM)\n",
    "What Worked:\n",
    "\n",
    "SVM performed well in handling non-linear relationships in the data, especially with the use of kernels (e.g., rbf and poly).\n",
    "Hyperparameter tuning (e.g., C, kernel, and gamma) significantly improved the model's performance, with the best parameters selected using GridSearchCV.\n",
    "The model showed better generalization on the test set compared to LDA, particularly for complex class boundaries.\n",
    "What Didn't Work:\n",
    "\n",
    "SVM is computationally expensive, especially with larger datasets or when using non-linear kernels.\n",
    "The model's interpretability is lower compared to LDA, as SVM relies on support vectors and kernel transformations.\n",
    "While SVM performed better overall, it still struggled with some misclassifications for closely related weight levels.\n",
    "Results:\n",
    "\n",
    "Training Accuracy: High, indicating the model captured the patterns in the training data effectively.\n",
    "Test Accuracy: Comparable to or slightly better than LDA, showing good generalization.\n",
    "Confusion Matrix: Fewer misclassifications compared to LDA, particularly for higher obesity levels."
   ]
  }
 ],
 "metadata": {
  "kernelspec": {
   "display_name": "Python 3",
   "language": "python",
   "name": "python3"
  },
  "language_info": {
   "codemirror_mode": {
    "name": "ipython",
    "version": 3
   },
   "file_extension": ".py",
   "mimetype": "text/x-python",
   "name": "python",
   "nbconvert_exporter": "python",
   "pygments_lexer": "ipython3",
   "version": "3.12.1"
  }
 },
 "nbformat": 4,
 "nbformat_minor": 5
}
